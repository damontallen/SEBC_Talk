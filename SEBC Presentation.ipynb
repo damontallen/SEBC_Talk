{
 "cells": [
  {
   "cell_type": "markdown",
   "metadata": {
    "slideshow": {
     "slide_type": "skip"
    }
   },
   "source": [
    "# 2016 SEBC Presentation"
   ]
  },
  {
   "cell_type": "markdown",
   "metadata": {
    "slideshow": {
     "slide_type": "slide"
    }
   },
   "source": [
    "\n",
    "\n",
    "<center>\n",
    "<strong style=\"font-size:28px\">The Future is Now: Building with Robotics and 3D Printers</strong>\n",
    "<br>\n",
    "<strong style=\"font-size:24px\"> Automation, Robotics and 3D Printing in Construction </strong>\n",
    "</center>"
   ]
  },
  {
   "cell_type": "markdown",
   "metadata": {},
   "source": [
    "<img style=\"float:right; max-width: 15%; height: auto;\" src=\"Images/Rinker Logo.jpg\"/>\n",
    "<center>\n",
    "<strong style=\"font-size:24px\"> Dr. Damon Allen<br/>\n",
    "<br/>\n",
    "Rinker School of Construction Management<br/>\n",
    "\n",
    "University of Florida\n",
    "</strong></center>\n"
   ]
  },
  {
   "cell_type": "markdown",
   "metadata": {
    "slideshow": {
     "slide_type": "notes"
    }
   },
   "source": [
    "Hello, I am Dr. Damon Allen and I teach at Rinker School of Construction Management at the University of Florida."
   ]
  },
  {
   "cell_type": "markdown",
   "metadata": {
    "slideshow": {
     "slide_type": "skip"
    }
   },
   "source": [
    "## About Me"
   ]
  },
  {
   "cell_type": "markdown",
   "metadata": {
    "slideshow": {
     "slide_type": "subslide"
    }
   },
   "source": [
    "<strong style=\"font-size:24px\"> About Me</strong>"
   ]
  },
  {
   "cell_type": "markdown",
   "metadata": {},
   "source": [
    "<img src=\"Images/My Color Icon 2014-alt.png\" width=250 height = 250 style=\"float:right\"/>\n",
    "\n",
    "* Doctorate in Structural Engineering in 2008\n",
    "* 12 years Experience with Automation (Robotics) \n",
    "    * Electronics \n",
    "    * Software Development\n",
    "* 26 Years of Construction Experience"
   ]
  },
  {
   "cell_type": "markdown",
   "metadata": {
    "slideshow": {
     "slide_type": "notes"
    }
   },
   "source": [
    "For those of you who did not read my bio. online, I am 3rd generation carpenter, with over a decade of experience in Residential, Commercial and Industrial construction, and my Doctorate is in Structural Engineering.  I've had experience developing robotic control systems in research and professionally.  This has consisted of working on design, and construction of electrical systems as well as developing their control software.  I've created and maintain two separate programming help websites and have developed construction design aid web apps."
   ]
  },
  {
   "cell_type": "markdown",
   "metadata": {
    "slideshow": {
     "slide_type": "slide"
    }
   },
   "source": [
    "# Purpose of this Talk"
   ]
  },
  {
   "cell_type": "markdown",
   "metadata": {},
   "source": [
    "<center>\n",
    "<img src=\"Images/Evolve with text.png\">\n",
    "</center>"
   ]
  },
  {
   "cell_type": "markdown",
   "metadata": {
    "slideshow": {
     "slide_type": "notes"
    }
   },
   "source": [
    "Though the description of my talk was dominated by 3D printing I am going to cover some robotics and automations today since they are related.  You can think of a 3D printer as a specialized robot and there are robots that are blurring this distinction.  I have several goals I hope to accomplish while presenting here.\n",
    "\n",
    "* First, give an overview of the status of automation currently available to the construction industry.\n",
    "* Provide some information about the technology that is being developed (including 3D printing)\n",
    "* Hopefully inspire at least some of you to participate in the development of robots and automated tools."
   ]
  },
  {
   "cell_type": "markdown",
   "metadata": {
    "slideshow": {
     "slide_type": "slide"
    }
   },
   "source": [
    "# Automation"
   ]
  },
  {
   "cell_type": "markdown",
   "metadata": {},
   "source": [
    "<img style=\"float:right; max-width: 25%; height: auto;\" src = \"./Images/WorkerPNG.png\">\n",
    "<strong style=\"font-size:20px\">Familiar Types</strong>\n",
    "* Scheduling\n",
    "* Planning\n",
    "* Design"
   ]
  },
  {
   "cell_type": "markdown",
   "metadata": {
    "slideshow": {
     "slide_type": "notes"
    }
   },
   "source": [
    "Most of you here are already using forms of automation in the way of scheduling, planning, or design applications.  You might not think of it like that, but consider the way you use Building Information Modeling (BIM) to improve productivity and planning.  These tools generally have features that automate the estimating and cost aspects of the building, as well as construction collision detection. However you should be aware that automation is doing much more than that now."
   ]
  },
  {
   "cell_type": "markdown",
   "metadata": {
    "slideshow": {
     "slide_type": "subslide"
    }
   },
   "source": [
    "## Software Automation"
   ]
  },
  {
   "cell_type": "markdown",
   "metadata": {},
   "source": [
    "<img style=\"float:center; max-width:50%; height:auto;\" src=\"./Images/Sketches-Bridge-Designs.jpg\"/>"
   ]
  },
  {
   "cell_type": "markdown",
   "metadata": {
    "slideshow": {
     "slide_type": "notes"
    }
   },
   "source": [
    "Computers are designing structures with the use of genetic algorithms and other machine learning algorithms.  What you see here is the design alternatives for a \"3D printed\" steel bridge in Amsterdam.  This is one of the cases where robotics and 3D printers overlap, I'll come back to this.  The automation software used (Project Dreamcatcher) to create these designs was developed by Autodesk, the makers of AutoCAD and Revit.  The software is given the geometric parameters and load characteristics and uses an iterative design approach, adding and removing material until the structure is optimized.  The one that was ultimately chosen is the branching structure in the upper left.  Since I don't want to run out of time covering 3D printing, and I also want to have time for questions at the end, we'll pick this up later when I talk more about the robotics overlap."
   ]
  },
  {
   "cell_type": "markdown",
   "metadata": {
    "slideshow": {
     "slide_type": "slide"
    }
   },
   "source": [
    "# 3D Printing"
   ]
  },
  {
   "cell_type": "markdown",
   "metadata": {},
   "source": [
    "<img style=\"float:center; max-width:70%; height:auto;\" src=\"./Images/3D Printing/MakerBot.png\"/>"
   ]
  },
  {
   "cell_type": "markdown",
   "metadata": {
    "slideshow": {
     "slide_type": "notes"
    }
   },
   "source": [
    "When I say 3D printing, this is probably what comes to mind, small rapid prototyping machines that create plastic models. This is true, but it is becoming much more."
   ]
  },
  {
   "cell_type": "markdown",
   "metadata": {
    "slideshow": {
     "slide_type": "subslide"
    }
   },
   "source": [
    "## Making Models and Prototypes"
   ]
  },
  {
   "cell_type": "markdown",
   "metadata": {},
   "source": [
    "<img style=\"float:center; max-width:70%; height:auto;\" src=\"./Images/3D Printing/Models and prototypes.png\"/>\n"
   ]
  },
  {
   "cell_type": "markdown",
   "metadata": {
    "slideshow": {
     "slide_type": "notes"
    }
   },
   "source": [
    "One of the widely used applications of 3D printing is in rapid prototyping and model making.  Since this approach has been adopted by architects the time taken to generate cost estimates has dropped from 50 to 80%.  Part of that drop has to do with the model creation using building information modeling but the models themselves have aided tremendously in the understanding of the spatial relations of the projects.  Prototyping is starting to make its way into the construction industry as its low cost, ease of creation and use becomes more apparent."
   ]
  },
  {
   "cell_type": "markdown",
   "metadata": {
    "slideshow": {
     "slide_type": "subslide"
    }
   },
   "source": [
    "### PLA and ABS Filament Printers"
   ]
  },
  {
   "cell_type": "markdown",
   "metadata": {},
   "source": [
    "<img style=\"max-width:90%; height:auto;\" src=\"./Images/3D Printing/Cheap 3D printers.png\"/>"
   ]
  },
  {
   "cell_type": "markdown",
   "metadata": {
    "slideshow": {
     "slide_type": "notes"
    }
   },
   "source": [
    "\n",
    "Filament printers work by feeding a plastic line through a heating element and placing it a layer at a time on the print bed.  The simplicity of the design and low cost of this type of printer has made it popular among hobbyists.  This type of printing also shares one of the flaws common to many 3D printers, having anisotropic strength characteristics.  The layering leads to natural weak points in the final product.  This is partially dealt with by remelting the previous layer of material.  Though the resulting printed objects can be surprisingly strong but it still leaves the a less than perfect finish.  However, with a quick look I found the MP Select Mini, the OneUP and Prusa i3 printers all available below \\$200.  Granted the Prusa i3 is on sale but in December the OneUp was only printer at that price.  Since this type is both inexpensive and easy to operate you should expect to see one of them in your homes and offices soon.  As a side note, one of the reasons you see so many of these 3D printers is the development of the open source movement and the release of the Arduino development platform.  This is also a topic I will come back to."
   ]
  },
  {
   "cell_type": "markdown",
   "metadata": {
    "slideshow": {
     "slide_type": "subslide"
    }
   },
   "source": [
    "### Powder and Binder"
   ]
  },
  {
   "cell_type": "markdown",
   "metadata": {},
   "source": [
    "<img style=\"float:center; max-width:100%; height:auto;\" src=\"./Images/3D Printing/Powder deposition graphic.png\"/>\n"
   ]
  },
  {
   "cell_type": "markdown",
   "metadata": {
    "slideshow": {
     "slide_type": "notes"
    }
   },
   "source": [
    "The process I'm showing here is technically powder bed fusion where the material is also the binder but I felt that it would be more useful to discuss than the other method.  The normal binder method would uses a chemical reaction to bind the powder material together, which is then built up layer by layer.  When using a binder the result is anisotropic, as before.  This fusion method has similar problems with layers of residual stresses, but ASTM is working with America Makes, the National Additive Manufacturing Innovation Institute, to develop a new standard to address these problems.  The result will be a standard that will allow for designing around this issue."
   ]
  },
  {
   "cell_type": "markdown",
   "metadata": {
    "slideshow": {
     "slide_type": "subslide"
    }
   },
   "source": [
    "### The CLIP Technique"
   ]
  },
  {
   "cell_type": "markdown",
   "metadata": {},
   "source": [
    "<img style=\"float:center; max-width:75%; height:auto;\" src=\"./Images/3D Printing/Carbon3D2 Clip eiffel tower.png\"/>\n",
    "* Joseph DeSimone's (Et al. at [Carbon3D](http://carbon3d.com/)) Continuous Liquid Interface Production"
   ]
  },
  {
   "cell_type": "markdown",
   "metadata": {
    "slideshow": {
     "slide_type": "notes"
    }
   },
   "source": [
    "Joseph DeSimone (and others) at Carbon3D have developed the Continuous Liquid Interface Production (CLIP) printing technique that creates objects without the problematic layering of other methods.  For those of you who have not heard of it, the way CLIP works is a liquid polymer that is cured with the aid of ultraviolet light projected from below as a cross sectional image of the object.  Unlike previous methods using ultraviolet light CLIP prevents the polymer from adhering to the window at the bottom by using an oxygen-permeable membrane which retards the curing process.  The result is a very rapidly printed object built up from the molecular level making it isotropic, without weak planes.  The polymer can be modified chemically so that the end result can have almost any physical property desired, and at a rate 10 to 100 times faster than previous methods.  The developer has even boasted that it may reach speeds of 1000 times faster.  The requirements for making a 3D print using CLIP are the size of the pool and the number of projectors it is conceivable that this may make its way to construction sites for fabrication of building parts."
   ]
  },
  {
   "cell_type": "markdown",
   "metadata": {
    "slideshow": {
     "slide_type": "subslide"
    }
   },
   "source": [
    "## Full Scale Construction"
   ]
  },
  {
   "cell_type": "markdown",
   "metadata": {},
   "source": [
    "\n",
    "<img style=\"float:right; max-width: 30%; height: auto;\" src = \"./Images/3D Printing/3D printers.jpg\"/>\n",
    "\n",
    "\n",
    "\n",
    "|Company/Printer|Country|\n",
    "|--|--|\n",
    "| [WinSun](http://www.3ders.org/articles/20160331-winsun-3d-prints-two-gorgeous-concrete-chinese-courtyards-inspired-by-the-ancient-suzhou-gardens.html) | China|\n",
    "| [Apis Cor](http://apis-cor.com/en/3d-printer) | Russia|\n",
    "| [Contour Crafting](http://www.contourcrafting.org/) | USC|\n",
    "| [KamerMaker](http://3dprintcanalhouse.com/partners) | Netherlands|\n",
    "| [WASP BigDelta](http://www.wasproject.it/w/en/3d-printers/) | Italy|"
   ]
  },
  {
   "cell_type": "markdown",
   "metadata": {
    "slideshow": {
     "slide_type": "notes"
    }
   },
   "source": [
    "With the multiple 3D Printers being developed or now available for construction it will soon be relatively easy to get in to the 3D building printing business.  Winsun has expressed interest in establishing factories in the US.  The Apis Cor 3D-printer, at only 2 tons, can be loaded onto a flatbed truck with a crane arm.  Contour Crafting is supposed to be commercially available within a couple years.  The KamerMaker version 2.0 is being developed or you can get WASP (World’s Advanced Saving Project) BigDelta printer."
   ]
  },
  {
   "cell_type": "markdown",
   "metadata": {
    "slideshow": {
     "slide_type": "subslide"
    }
   },
   "source": [
    "### The Canal House"
   ]
  },
  {
   "cell_type": "markdown",
   "metadata": {},
   "source": [
    "<img src=\"./Images/3D Printing/dezeen_3D-printed-canal-house-by-DUS-Architects_ss_1.jpg\"/>"
   ]
  },
  {
   "cell_type": "markdown",
   "metadata": {
    "slideshow": {
     "slide_type": "notes"
    }
   },
   "source": [
    "KamerMaker XL, a 12 feet tall FFF printer, made its way to the Buiksloter Canal in Amsterdam on January 6, where it’s already begun printing. The printer, more or less a large RepRap housed in a shipping container, is using a type of plastic — an 80% bio-based hotmelt, developed by German chemical company Henkel — to print pieces that will be assembled into a complete house. The project’s website describes the process:"
   ]
  },
  {
   "cell_type": "markdown",
   "metadata": {
    "collapsed": false,
    "slideshow": {
     "slide_type": "skip"
    }
   },
   "source": [
    "import sympy.physics.units as u\n",
    "3.5 *u.meter/u.feet"
   ]
  },
  {
   "cell_type": "markdown",
   "metadata": {
    "slideshow": {
     "slide_type": "subslide"
    }
   },
   "source": [
    "### Apis Cor"
   ]
  },
  {
   "cell_type": "code",
   "execution_count": 10,
   "metadata": {
    "collapsed": false,
    "hide_input": false,
    "scrolled": true,
    "slideshow": {
     "slide_type": "-"
    }
   },
   "outputs": [
    {
     "data": {
      "text/html": [
       "\n",
       "<img style=\"float:left; max-width:50%; height:auto;\" src=\"./Images/3D Printing/ApisCor_printer_tcB@2x.png\"/>\n",
       "<video style=\"float:right; max-width:90%; height:auto\" controls>\n",
       "  <source src=\"./Video/Short Apis Cor.m4v\" type=\"video/mp4\">\n",
       "  Your browser does not support the video tag.\n",
       "</video> \n"
      ],
      "text/plain": [
       "<IPython.core.display.HTML object>"
      ]
     },
     "execution_count": 10,
     "metadata": {},
     "output_type": "execute_result"
    }
   ],
   "source": [
    "from IPython.display import HTML\n",
    "Apis_data  = \"\"\"\n",
    "<img style=\"float:left; max-width:50%; height:auto;\" src=\"./Images/3D Printing/ApisCor_printer_tcB@2x.png\"/>\n",
    "<video style=\"float:right; max-width:90%; height:auto\" controls>\n",
    "  <source src=\"./Video/Short Apis Cor.m4v\" type=\"video/mp4\">\n",
    "  Your browser does not support the video tag.\n",
    "</video> \n",
    "\"\"\"\n",
    "HTML(Apis_data)"
   ]
  },
  {
   "cell_type": "markdown",
   "metadata": {
    "hide_input": false,
    "slideshow": {
     "slide_type": "notes"
    }
   },
   "source": [
    "This is the first construction printer I'm going to talk about that uses traditional construction material.  Designed by Russian engineers it serves as an entry level 3D printer, small, lightweight, and low power consumption (8 KW).  According to their site the concrete printer takes on 30 minutes to setup, it is self leveling and when not in use can fit through a 3 foot wide opening.  It is designed to be places in the center of a house where it prints the surrounding structure.  For multi story structures a crane is required to move from one floor to the next.  The other limitation is the print area, the radial reach is only about 26 feet giving a maximum print area of approximately 2,000 square feet.  However it can be used to print foundation forms and does some initial finishing of the wall surfaces.  A skip trowel finish is suggested for the final appearance.  The nice part about using concrete for a print material is that as it cures the crystalline structure between layers grows together making it much smaller issue.  Additionally if more strength is required the structure can be treated like a block building and some of the cells can be grouted solid.  They are reporting costs savings of 40% and a rapid build time.  "
   ]
  },
  {
   "cell_type": "markdown",
   "metadata": {
    "slideshow": {
     "slide_type": "subslide"
    }
   },
   "source": [
    "### WASP BigDelta"
   ]
  },
  {
   "cell_type": "markdown",
   "metadata": {},
   "source": [
    "<img style=\"float:left; max-width:40%; height:auto;\" src=\"./Images/3D Printing/big-delta-3D-printer-from-WASP.jpg\"/>\n",
    "\n",
    "<img style=\"float:right; max-width:100%; height:auto;\" src=\"./Images/3D Printing/DeltaRamki.gif\"/>"
   ]
  },
  {
   "cell_type": "markdown",
   "metadata": {
    "slideshow": {
     "slide_type": "notes"
    }
   },
   "source": [
    "As you can see the WASP BigDelta is named after the delta robot design which was invented in the early 1980s.  This particular construction printer has a reduced print area but it was designed with low cost housing in mind.  The printer \"has been desgined to be able to print materials that are found on location, a mixture of water, soil and vegetable fiber, depending on each territory\". However it is supposed to also print with cement, lime based mixtures, sawdust and polystyrene.  With the printer's humanitarian design goals in mind it only uses 1-1.5 Kilowatts of power which could be supplied with a solar panel."
   ]
  },
  {
   "cell_type": "markdown",
   "metadata": {
    "slideshow": {
     "slide_type": "subslide"
    }
   },
   "source": [
    "### Contour Crafting"
   ]
  },
  {
   "cell_type": "markdown",
   "metadata": {},
   "source": [
    "<img style=\"float:center;max-width:80%; height:auto;\" src=\"./Images/3D Printing/Contour Crafting Collection.png\"/>"
   ]
  },
  {
   "cell_type": "markdown",
   "metadata": {
    "slideshow": {
     "slide_type": "notes"
    }
   },
   "source": [
    "Dr. Behrokh Khoshnevis, one of the early pioneers of 3D construction printing, developed his method (Contour Crafting) with the concept for not only printing the structure but the automatically insertion of structural components, plumbing, wiring, utilities, and even consumer devices like audiovisual systems as the layers are built. Wanting to accomplish these lofty goals are part of the reason other designs that copy his work have made it to market first.  Contour Crafting printers are supposed to be available within a few years though and they are the only ones with plans for larger scale buildings being printed on-site at the moment.  Apartment complexes are to be rapidly printed with the use of multiple printers working side by side; high-rises are planned to be constructed with printers that climb the walls as they print. With not only the structure but the plumbing and electrical being placed by the printer it may become the replacement for whole construction crews."
   ]
  },
  {
   "cell_type": "markdown",
   "metadata": {
    "slideshow": {
     "slide_type": "subslide"
    }
   },
   "source": [
    "### WinSun*"
   ]
  },
  {
   "cell_type": "markdown",
   "metadata": {},
   "source": [
    "<img style=\"float:center;max-width:90%;height:auto;\" src=\"./Images/3D Printing/WinSun.png\"/>"
   ]
  },
  {
   "cell_type": "markdown",
   "metadata": {
    "slideshow": {
     "slide_type": "notes"
    }
   },
   "source": [
    "You may have heard of WinSun in the news a little more than a year ago.  They were touted as having been the first to print a five story building.  While technically true, the printing was done in their factory and the building was assembled on site much like precast construction.  That being said, they are producing attractive structures now and are exporting 20,000 smaller buildings to the Egyptian government.  The is a fair amount of controversy with their printing process though since Dr. Behrokh Khoshnevis's former student apparently stoled it.  I don't know how this will play out if they try to actually set up a factory in the US, but they have expressed the desire to do so.  They may just be waiting until the patents expire in ten more years.  Either way, their process requires connecting the walls together with conventionally poured concrete.  (http://www.yhbm.com/ is WinSun's website)"
   ]
  },
  {
   "cell_type": "markdown",
   "metadata": {
    "slideshow": {
     "slide_type": "subslide"
    }
   },
   "source": [
    "### \"Just 17 days to create world’s first fully 3D printed office in Dubai\""
   ]
  },
  {
   "cell_type": "markdown",
   "metadata": {},
   "source": [
    "<img style=\"float:right; max-width: 50%; height: auto;\" src=\"./Images/3D Printing/UAE 3D printed Building.jpg\"/>\n",
    "* Temporary office of the Dubai Future Foundation\n",
    "  * \"Museum of the Future\"\n",
    "* Floor space 250 square meters (2700 ft<sup>2</sup>)\n",
    "* Construction speed\n",
    "  * Printed in 17 days\n",
    "  * Installed in two days\n",
    "* Labor\n",
    "  * 1 staff member to monitor the printer\n",
    "  * 7 to install the building components on site\n",
    "  * 10 electricians and specialists for the mechanical and electrical engineering tasks\n",
    "  * 50% of the costs of the conventionally alternative\n",
    "* Material\n",
    "  * Special reinforced concrete\n",
    "  * Glass fiber reinforced gypsum \n",
    "  * Fiber reinforced plastic\n",
    "  * Designed and made in the UAE and the United States\n",
    "* Unique construction differences\n",
    "  * Mobile printers were located at the construction site for additional support"
   ]
  },
  {
   "cell_type": "markdown",
   "metadata": {
    "collapsed": false,
    "slideshow": {
     "slide_type": "skip"
    }
   },
   "source": [
    "import sympy.physics.units as u\n",
    "Area = 250* u.meters**2\n",
    "print(\"{:.0f} ft^2\".format(float(Area/u.ft**2)))\n",
    "print(120*40)"
   ]
  },
  {
   "cell_type": "markdown",
   "metadata": {
    "slideshow": {
     "slide_type": "notes"
    }
   },
   "source": [
    "I wanted to point out more recent 3D printed building projects that made the news.  The 3D-printer used is 20-feet high, 120-feet long and 40-feet wide.  The construction speed was significantly faster than their conventional construction methods similar office buildings. The method cut the labor cost by more than 50 per cent compared to conventional buildings of approximately the same size.  Specifically, they are estimating that using this technique, production times are reduced by 50 to 70 percent, labor costs can be reduced by 50 to 80 percent, and construction waste is reduced by 30 to 60 percent."
   ]
  },
  {
   "cell_type": "markdown",
   "metadata": {
    "slideshow": {
     "slide_type": "subslide"
    }
   },
   "source": [
    "### MX3D - Steel Printing"
   ]
  },
  {
   "cell_type": "markdown",
   "metadata": {},
   "source": [
    "<img style=\"float:center;\" src=\"./Images/3D Printing/MX3D.png\"/>"
   ]
  },
  {
   "cell_type": "markdown",
   "metadata": {
    "slideshow": {
     "slide_type": "notes"
    }
   },
   "source": [
    "Dutch designer Joris Laarman, whose R&D company MX3D, developed a steel printing robot with the goal of printing bridges (and other things).  This technique is actually built up weld.  Being built up it does have a layered structure but being made from steel allows these layers to be oriented in whatever is the most advantageous or at least the least detrimental.  The layers can be made to be perpendicular to the direction of load reducing the strength requirements.  It is also a very efficient way of building a structure since there only needs to be the material required for support with no waste.  Unfortunately this is not a particularly fast process placing a single drop at a time but the potential exists for greater speed, and as increased construction time does not equate to increased labor costs this is not necessarily a deal breaker for custom designs."
   ]
  },
  {
   "cell_type": "markdown",
   "metadata": {
    "slideshow": {
     "slide_type": "subslide"
    }
   },
   "source": [
    "### Recycling in 3D Printing"
   ]
  },
  {
   "cell_type": "markdown",
   "metadata": {},
   "source": [
    "<img style=\"float:right; max-width:90%,height:auto\"src=\"./Images/Recycling.png\"/>\n",
    "* Recycling\n",
    "* Reuse"
   ]
  },
  {
   "cell_type": "markdown",
   "metadata": {
    "slideshow": {
     "slide_type": "notes"
    }
   },
   "source": [
    "A lot of these process use recycled content in the print medium, be it plastic, concrete or steel.  This helps with the environmental impact and LEED certifications.  This is particularly true with the use of plastics since 100% of the material can can come from recycling and there are already techniques for making new printing material available."
   ]
  },
  {
   "cell_type": "markdown",
   "metadata": {
    "slideshow": {
     "slide_type": "slide"
    }
   },
   "source": [
    "# Robotics"
   ]
  },
  {
   "cell_type": "markdown",
   "metadata": {},
   "source": [
    "<img style=\"float:center;max-width:90%,height:auto;\" src=\"./Images/Construction Robots.png\"/>"
   ]
  },
  {
   "cell_type": "markdown",
   "metadata": {
    "slideshow": {
     "slide_type": "notes"
    }
   },
   "source": [
    "As I said before 3D printers are simply specialized robots and there are many more types of automation entering the industry and some already here.  "
   ]
  },
  {
   "cell_type": "markdown",
   "metadata": {
    "slideshow": {
     "slide_type": "subslide"
    }
   },
   "source": [
    "## Brief Review"
   ]
  },
  {
   "cell_type": "markdown",
   "metadata": {},
   "source": [
    "<img style=\"float:center;max-width:70%;height:auto;\" src=\"./Images/Robotics Review combined.png\"/>"
   ]
  },
  {
   "cell_type": "markdown",
   "metadata": {
    "slideshow": {
     "slide_type": "notes"
    }
   },
   "source": [
    "The International Association for Automation and Robotics in construction has been around since 1984.  During their first conference, talks were covering tunneling robots, robotic assembly, and management tools for robotic construction projects.  In 2015 there were topics covering from automated kitchens for assisted living to assistive bathroom modules.  The Robotics and Mechatronics Conference in Japan had presentations covering wearable robots, swarm robots, and Construction & Infrastructure Maintenance Robotics.  My point is automation will rapidly be permeating all aspects of construction be it 3D printers, robotic construction workers, or just the internet of things.  This was even evident back in 1985 when this chart was published.  I would have to say we are a little farther along than was expected."
   ]
  },
  {
   "cell_type": "markdown",
   "metadata": {
    "slideshow": {
     "slide_type": "subslide"
    }
   },
   "source": [
    "## Currently Available"
   ]
  },
  {
   "cell_type": "markdown",
   "metadata": {},
   "source": [
    "<img style=\"float:center;max-width:80%;height:auto\"src=\"./Images/Current/Current Collection.jpg\"/>"
   ]
  },
  {
   "cell_type": "markdown",
   "metadata": {
    "slideshow": {
     "slide_type": "notes"
    }
   },
   "source": [
    "There are far to many robots available to use in construction to list them all now so I'm just going to cover some examples of the of the major types.  In the upper left there is an autonomous version of a Hitachi dump truck is scheduled to be available in 2017. It is designed to either work independently or as part of a fleet of trucks. This particular version is targeted at the mining industry but other versions are being developed for construction sites.  Top center is a human robotic platform (HRP) in teleoperation task on construction machine as part of the NEDO Humnoid Project.  It may be a little hard to see but the upper right is a set of photos from Sekisui Chemical Co., LTD which can produce 1,000 homes a year in their automated plant.  Lower left is the Semi-Autonomous Mason (SAM) from Construction Robotics.  Bottom center is Hadrain, from Perth, Australia, which can lay 1000 bricks per hour.  Bottom right is the autonomous wheel loader \"Yamazumi-4\".  I wouldn't be surprised if Tesla gets into the market before too long."
   ]
  },
  {
   "cell_type": "markdown",
   "metadata": {
    "slideshow": {
     "slide_type": "subslide"
    }
   },
   "source": [
    "### Drones"
   ]
  },
  {
   "cell_type": "markdown",
   "metadata": {},
   "source": [
    "<img style=\"float:center;max-width:70%;height:auto\" src=\"./Images/drones building.jpg\"/>"
   ]
  },
  {
   "cell_type": "markdown",
   "metadata": {
    "slideshow": {
     "slide_type": "notes"
    }
   },
   "source": [
    "I'm sure by this point you are familiar with the use of drone for monitoring job-site progress but Amazon is not the only one looking at delivery drones.  This is an example of roboticist Raffaello D’Andrea at the Swiss architecture firm Gramazio Kohler Architects using drones to create wall from lightweight blocks.  This is not the limit of drones in the future since all you need to do is scale them up to carry heavier payloads. There is even research being done at Imperial College London to make drones that lay bricks and ‘3D print’ mortar while it is in flight."
   ]
  },
  {
   "cell_type": "markdown",
   "metadata": {
    "slideshow": {
     "slide_type": "subslide"
    }
   },
   "source": [
    "## What is on the Horizon"
   ]
  },
  {
   "cell_type": "markdown",
   "metadata": {},
   "source": [
    "<img style = \"float:center; max-width:70%; height:auto\" src=\"./Images/Timber Construction.jpg\"/>"
   ]
  },
  {
   "cell_type": "markdown",
   "metadata": {
    "slideshow": {
     "slide_type": "notes"
    }
   },
   "source": [
    "There is a lot of work being done in the field of construction robotics now, and there seems to be no limit to what will be coming next.  This is where I want to try to inspire you to take a little time and look into this technological future.  This is a prototype automated \"carpenter\" being developed by Gramazio Kohler Research at ETH Zurich.  The lumber feed, sawing, fitting and fastening of complex wood structures is being done by this robot.  In the not to distant future you could see on with tracks of legs walking across a job site near you."
   ]
  },
  {
   "cell_type": "markdown",
   "metadata": {
    "slideshow": {
     "slide_type": "subslide"
    }
   },
   "source": [
    "### Walking Robots"
   ]
  },
  {
   "cell_type": "markdown",
   "metadata": {},
   "source": [
    "<img style=\"float:left; max-width:50%; height:auto;\" src=\"./Images/Boston Dynamic box robot.jpg\"/>\n",
    "<img style=\"float:right; max-width:50%; height:auto;\" src=\"./Images/spotmini.gif\"/>"
   ]
  },
  {
   "cell_type": "markdown",
   "metadata": {
    "slideshow": {
     "slide_type": "notes"
    }
   },
   "source": [
    "You may remember Boston Dynamics' bipedal Atlas robot that was abused earlier this year, or more recently Spot Mini putting dishes in the dish washer.  These robots are close to being able to operate existing equipment.  You may not know that Toyota is interested in purchasing Boston Dynamics.  Additionally you may not know that Toyota also has a construction branch.  Their automated  modular home division has been reported to be able to complete a 12 room home in no more than three days; this includes placing it on site, done.  For now they may be mainly focused on their home market but if they decide to set up shop in the US it may result in a disruption to the construction market similar to what happened to the automotive market."
   ]
  },
  {
   "cell_type": "markdown",
   "metadata": {
    "slideshow": {
     "slide_type": "subslide"
    }
   },
   "source": [
    "### Specialized Construction Machines"
   ]
  },
  {
   "cell_type": "markdown",
   "metadata": {},
   "source": [
    "<img style=\"float:center;max-width:70%;height:auto\"src=\"./Images/In-situ Fabricator.png\"/>"
   ]
  },
  {
   "cell_type": "markdown",
   "metadata": {
    "slideshow": {
     "slide_type": "notes"
    }
   },
   "source": [
    "One of the more sophisticated wall building robots under development, the In-situ, Fabricator works by driving to the build location by itself, then builds the wall based on a BIM model it accesses via the wifi network.  Engineers at the University of Alberta are developing self driving cranes.  At the Cairo University in Egypt engineers are developing software that will look at a projects BIM model and automatically select and position tower cranes.  Gramazio Kohler is working on drones that build rope bridges."
   ]
  },
  {
   "cell_type": "markdown",
   "metadata": {
    "slideshow": {
     "slide_type": "subslide"
    }
   },
   "source": [
    "### Also more Drones"
   ]
  },
  {
   "cell_type": "markdown",
   "metadata": {},
   "source": [
    "<img style=\"float:center;max-width:60%;height:auto\" src=\"./Images/Safety drone.png\"/>"
   ]
  },
  {
   "cell_type": "markdown",
   "metadata": {
    "slideshow": {
     "slide_type": "notes"
    }
   },
   "source": [
    "I am currently working with Dr. Masoud Gheisari at the Rinker School at UF on a drone project to create an automated safety inspector.  (Also I am seeking funding for a concrete printer for the school; just throwing that out there.)"
   ]
  },
  {
   "cell_type": "markdown",
   "metadata": {
    "slideshow": {
     "slide_type": "subslide"
    }
   },
   "source": [
    "## Can't Wait?"
   ]
  },
  {
   "cell_type": "markdown",
   "metadata": {},
   "source": [
    "<img style=\"float:right;max-width:40%;height:auto;\" src=\"./Images/Pi and Arduino_Uno.png\"/>\n",
    "\n",
    "* Help support research and development\n",
    "  * Funding\n",
    "  * Consider using interns to help build equipment for yourself\n",
    "* Collaborate\n",
    "  * Help with technical parts if you can\n",
    "  * Suggest projects\n",
    "  * Provide feedback\n",
    "  * Use your kids to build equipment"
   ]
  },
  {
   "cell_type": "markdown",
   "metadata": {
    "slideshow": {
     "slide_type": "notes"
    }
   },
   "source": [
    "So I have your attention and you are interested in one or more of the projects that I've mentioned, or you have an idea of your own that you wish someone was working on.  Well you have options.  You can contact your local researcher or come and see me and provide assistance in the form of funding and development input.  If you feel a little more hands on and want to strike out on your own, the open-source movement (Arduino (\\$25), Raspberry Pi (\\$35), etc.) has made the barrier to entry into the robotics field extremely low, practically non-existent.  There are projects out there that will provide a leg up like the 7Bot arm (\\$350) that learns motion instead of programming it.  You can even get your kids to build something.  There are numerous resources available on-line that can be used to build a useful robot without the need of an engineering degree, but it may take some time."
   ]
  },
  {
   "cell_type": "markdown",
   "metadata": {
    "slideshow": {
     "slide_type": "subslide"
    }
   },
   "source": [
    "## What you can make for \\$100"
   ]
  },
  {
   "cell_type": "markdown",
   "metadata": {},
   "source": [
    "<img style=\"float:center;max-width:70%;height:auto;\" src=\"./Images/Mine2.jpg\"/>"
   ]
  },
  {
   "cell_type": "markdown",
   "metadata": {
    "slideshow": {
     "slide_type": "notes"
    }
   },
   "source": [
    "This is a prototype of a spindle cutting robot built using scrap wood, unused electronics, parts from old printers and around \\$100 of additional hardware (mostly just what is circled).  That is about the cost of an average middle school science fair project.  To use it I simply provide the robot with a drawing of the final product and it goes to work.  It was built for use by a historic organization my wife is involved in to recreate some spindles in a historic building restoration project.  During its development, to demonstrate how easy it can be build a robot now, I deliberately limited myself to using information and techniques that could be quickly found on-line.  "
   ]
  },
  {
   "cell_type": "markdown",
   "metadata": {
    "slideshow": {
     "slide_type": "slide"
    }
   },
   "source": [
    "# Conclusion"
   ]
  },
  {
   "cell_type": "markdown",
   "metadata": {},
   "source": [
    "<img style=\"float:right;max-width:60%;height:auto\" src=\"./Images/vision_01.jpg\"/>\n",
    "The machines are coming..."
   ]
  },
  {
   "cell_type": "markdown",
   "metadata": {},
   "source": [
    "Get involved..."
   ]
  },
  {
   "cell_type": "markdown",
   "metadata": {
    "slideshow": {
     "slide_type": "slide"
    }
   },
   "source": [
    "# Questions?"
   ]
  },
  {
   "cell_type": "markdown",
   "metadata": {},
   "source": [
    " "
   ]
  },
  {
   "cell_type": "markdown",
   "metadata": {
    "slideshow": {
     "slide_type": "notes"
    }
   },
   "source": []
  },
  {
   "cell_type": "markdown",
   "metadata": {
    "slideshow": {
     "slide_type": "slide"
    }
   },
   "source": [
    "# Contact Information and References"
   ]
  },
  {
   "cell_type": "markdown",
   "metadata": {},
   "source": []
  }
 ],
 "metadata": {
  "celltoolbar": "Slideshow",
  "hide_input": false,
  "kernelspec": {
   "display_name": "Python 3.5",
   "language": "python",
   "name": "python3-5"
  },
  "language_info": {
   "codemirror_mode": {
    "name": "ipython",
    "version": 3
   },
   "file_extension": ".py",
   "mimetype": "text/x-python",
   "name": "python",
   "nbconvert_exporter": "python",
   "pygments_lexer": "ipython3",
   "version": "3.5.2"
  },
  "toc": {
   "toc_cell": false,
   "toc_number_sections": false,
   "toc_section_display": "none",
   "toc_threshold": 6,
   "toc_window_display": false
  },
  "toc_position": {
   "height": "505px",
   "left": "1179.87px",
   "right": "0.466667px",
   "top": "119px",
   "width": "284px"
  }
 },
 "nbformat": 4,
 "nbformat_minor": 0
}
