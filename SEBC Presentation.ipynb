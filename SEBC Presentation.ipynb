{
 "cells": [
  {
   "cell_type": "markdown",
   "metadata": {
    "slideshow": {
     "slide_type": "skip"
    }
   },
   "source": [
    "# 2016 SEBC Presentation"
   ]
  },
  {
   "cell_type": "markdown",
   "metadata": {
    "slideshow": {
     "slide_type": "slide"
    }
   },
   "source": [
    "\n",
    "\n",
    "<center>\n",
    "<strong style=\"font-size:28px\">The Future is Now: Building with Robotics and 3D Printers</strong>\n",
    "<br>\n",
    "<strong style=\"font-size:24px\"> Automation, Robotics and 3D Printing in Construction </strong>\n",
    "</center>"
   ]
  },
  {
   "cell_type": "markdown",
   "metadata": {},
   "source": [
    "<img style=\"float:right; max-width: 15%; height: auto;\" src=\"Images/Rinker Logo.jpg\"/>\n",
    "<center>\n",
    "<strong style=\"font-size:24px\"> Dr. Damon Allen<br/>\n",
    "<br/>\n",
    "Rinker School of Construction Management<br/>\n",
    "\n",
    "University of Florida\n",
    "</strong></center>\n"
   ]
  },
  {
   "cell_type": "markdown",
   "metadata": {
    "slideshow": {
     "slide_type": "notes"
    }
   },
   "source": [
    "Hello, I am Dr. Damon Allen and I teach at Rinker School of Construction Management at the University of Florida.  Rinker is the oldest continuing building construction program in the country founded in 1935.   With its Master's program starting in 1948 and Ph.D. program beginning in 1988.  In 1988 the Center for Affordable Housing was created.  In 1991 the Center for Construction and the Environment and Center for Safety and Loss Control were created.  A graduate track in Sustainable Construction was first offered in 1999.  In 2003 the School moved to its new building, Rinker Hall, the 26th building in the U.S. to have been awarded LEED Gold certification by the U.S. Green Building Council.  Today The Rinker School has over 7050 graduates (6000 BS, 1000 MS, and 50 PhD), 150 upper division students, 100 Master’s students, 30 PhD students, 20 faculty, and 13 support staff."
   ]
  },
  {
   "cell_type": "markdown",
   "metadata": {
    "slideshow": {
     "slide_type": "skip"
    }
   },
   "source": [
    "## About Me"
   ]
  },
  {
   "cell_type": "markdown",
   "metadata": {
    "slideshow": {
     "slide_type": "subslide"
    }
   },
   "source": [
    "<strong style=\"font-size:24px\"> About Me</strong>"
   ]
  },
  {
   "cell_type": "markdown",
   "metadata": {},
   "source": [
    "<img src=\"Images/My Color Icon 2014-alt.png\" width=\"250\" height=\"250\" style=\"float:right\"/>\n",
    "\n",
    "* Doctorate in Structural Engineering in 2008\n",
    "* 12 years Experience with Automation (Robotics) \n",
    "    * Electronics \n",
    "    * Software Development\n",
    "* 26 Years of Construction Experience"
   ]
  },
  {
   "cell_type": "markdown",
   "metadata": {
    "slideshow": {
     "slide_type": "notes"
    }
   },
   "source": [
    "For those of you who did not read my bio. online, I am a 3rd generation carpenter, with over two decades of experience in Residential, Commercial and Industrial construction, and my Doctorate is in Structural Engineering.  I've had experience developing robotic control systems in research and professionally.  This has consisted of working on design, and construction of electrical systems as well as developing their control software.  I've created and maintain two separate programming help websites and have developed construction design aid web apps."
   ]
  },
  {
   "cell_type": "markdown",
   "metadata": {
    "slideshow": {
     "slide_type": "slide"
    }
   },
   "source": [
    "# Purpose of this Talk"
   ]
  },
  {
   "cell_type": "markdown",
   "metadata": {},
   "source": [
    "<center>\n",
    "<img src=\"Images/Evolve with text.png\">\n",
    "</center>"
   ]
  },
  {
   "cell_type": "markdown",
   "metadata": {
    "slideshow": {
     "slide_type": "notes"
    }
   },
   "source": [
    "Though the description of my talk was dominated by 3D printing I am going to cover some robotics and automation today since they are related.  You can think of a 3D printer as a specialized robot and there are robots that are blurring this distinction.  I have several goals I hope to accomplish while presenting here.\n",
    "\n",
    "* First, give an overview of the status of automation currently available to the construction industry.\n",
    "* Provide some information about the technology that is being developed (including 3D printing)\n",
    "* Hopefully inspire at least some of you to participate in the development of robots and construction automation."
   ]
  },
  {
   "cell_type": "markdown",
   "metadata": {
    "slideshow": {
     "slide_type": "slide"
    }
   },
   "source": [
    "# Automation"
   ]
  },
  {
   "cell_type": "markdown",
   "metadata": {},
   "source": [
    "<img style=\"float:right; max-width: 25%; height: auto;\" src=\"./Images/WorkerPNG.png\"/>\n",
    "<strong style=\"font-size:20px\">Familiar Types</strong>\n",
    "* Scheduling\n",
    "* Planning\n",
    "* Design"
   ]
  },
  {
   "cell_type": "markdown",
   "metadata": {
    "slideshow": {
     "slide_type": "notes"
    }
   },
   "source": [
    "Most of you here are already using forms of automation in the way of scheduling, planning, or design applications.  You might not think of it like that, but consider the way you use Building Information Modeling (BIM) to improve productivity and planning.  These tools generally have features that automate the estimating and cost aspects of the building, as well as construction collision detection. However you should be aware that automation is doing much more than that now."
   ]
  },
  {
   "cell_type": "markdown",
   "metadata": {
    "slideshow": {
     "slide_type": "subslide"
    }
   },
   "source": [
    "## Software Automation"
   ]
  },
  {
   "cell_type": "markdown",
   "metadata": {},
   "source": [
    "<img style=\"float:center; max-width:50%; height:auto;\" src=\"./Images/Sketches-Bridge-Designs.jpg\"/>"
   ]
  },
  {
   "cell_type": "markdown",
   "metadata": {
    "slideshow": {
     "slide_type": "notes"
    }
   },
   "source": [
    "Computers are designing structures with the use of genetic algorithms and other machine learning methods.  What you see here are the design alternatives for a \"3D printed\" steel bridge in Amsterdam.  This is one of the cases where robotics and 3D printers overlap, I'll come back to this.  The automation software (Project Dreamcatcher) used to create these designs was developed by Autodesk, the makers of AutoCAD and Revit.  The software is given the geometric parameters and load characteristics and uses an iterative design approach, adding and removing material until the structure is optimized.  The one that was ultimately chosen is the branching structure in the upper left.  Since I don't want to run out of time covering 3D printing, and I also want to have time for questions at the end, we'll pick this up later when I talk more about robotics."
   ]
  },
  {
   "cell_type": "markdown",
   "metadata": {
    "slideshow": {
     "slide_type": "slide"
    }
   },
   "source": [
    "# 3D Printing"
   ]
  },
  {
   "cell_type": "markdown",
   "metadata": {},
   "source": [
    "<img style=\"float:center; max-width:70%; height:auto;\" src=\"./Images/3D Printing/MakerBot.png\"/>"
   ]
  },
  {
   "cell_type": "markdown",
   "metadata": {
    "slideshow": {
     "slide_type": "notes"
    }
   },
   "source": [
    "When I say 3D printing, this is probably what comes to mind, small rapid prototyping machines that create plastic models. This is accurate, but it is becoming much more."
   ]
  },
  {
   "cell_type": "markdown",
   "metadata": {
    "slideshow": {
     "slide_type": "subslide"
    }
   },
   "source": [
    "## Making Models and Prototypes"
   ]
  },
  {
   "cell_type": "markdown",
   "metadata": {},
   "source": [
    "<img style=\"float:center; max-width:70%; height:auto;\" src=\"./Images/3D Printing/Models and prototypes.png\"/>\n"
   ]
  },
  {
   "cell_type": "markdown",
   "metadata": {
    "slideshow": {
     "slide_type": "notes"
    }
   },
   "source": [
    "One of the widely used applications of 3D printing is in rapid prototyping and model making.  Since this approach has been adopted by architects the time taken to generate cost estimates has dropped from 50 to 80%.  Part of that drop has to do with the model creation using building information modeling but the models themselves have aided tremendously in the understanding of the spatial relations of the projects.  Prototyping is starting to make its way into the construction industry as its low cost, ease of creation and usefulness becomes more apparent."
   ]
  },
  {
   "cell_type": "markdown",
   "metadata": {
    "slideshow": {
     "slide_type": "subslide"
    }
   },
   "source": [
    "### PLA and ABS Filament Printers"
   ]
  },
  {
   "cell_type": "markdown",
   "metadata": {},
   "source": [
    "<img style=\"max-width:90%; height:auto;\" src=\"./Images/3D Printing/Cheap 3D printers.png\"/>"
   ]
  },
  {
   "cell_type": "markdown",
   "metadata": {
    "slideshow": {
     "slide_type": "notes"
    }
   },
   "source": [
    "\n",
    "Filament printers work by feeding a plastic line through a heating element and placing it a layer at a time on the print bed.  The simplicity of the design and low cost of this type of printer has made it popular among hobbyists.  This type of printing also shares one of the flaws common to many 3D printers, having anisotropic strength characteristics.  The layering leads to natural planes of weakness in the final product.  This is partially dealt with by remelting the previous layer of material.  Though the resulting printed objects can be surprisingly strong, it still leaves a less than perfect finish.  After a quick look around I found the MP Select Mini, the OneUP and Prusa i3 printers all available below \\$200.  Granted the Prusa i3 is on sale but in December the OneUp was only printer at that price.  Since this type is both inexpensive and easy to operate you should expect to see one of them in your homes or offices soon.  As a side note, one of the reasons you see so many of these 3D printers, is the development of the open source movement and the release of the Arduino development platform.  This is also a topic I will come back to."
   ]
  },
  {
   "cell_type": "markdown",
   "metadata": {
    "slideshow": {
     "slide_type": "subslide"
    }
   },
   "source": [
    "### Powder and Binder"
   ]
  },
  {
   "cell_type": "markdown",
   "metadata": {},
   "source": [
    "<img style=\"float:center; max-width:100%; height:auto;\" src=\"./Images/3D Printing/Powder deposition graphic.png\"/>\n"
   ]
  },
  {
   "cell_type": "markdown",
   "metadata": {
    "hide_input": true,
    "slideshow": {
     "slide_type": "notes"
    }
   },
   "source": [
    "The process I'm showing here is technically powder bed fusion where the material is also the binder but I felt that it would be more useful to discuss than the other method.  The normal binder method would use a chemical reaction to bind the powder material together, which is then built up layer by layer.  When using a binder the result is anisotropic, as before.  This fusion method has similar problems with layers due to residual stresses, but ASTM is working with America Makes, the National Additive Manufacturing Innovation Institute, to develop a new standard to address these problems.  The result will be a standard that will allow for designing around this issue."
   ]
  },
  {
   "cell_type": "markdown",
   "metadata": {
    "slideshow": {
     "slide_type": "subslide"
    }
   },
   "source": [
    "### The CLIP Technique"
   ]
  },
  {
   "cell_type": "markdown",
   "metadata": {},
   "source": [
    "<img style=\"float:center; max-width:75%; height:auto;\" src=\"./Images/3D Printing/Carbon3D2 Clip eiffel tower.png\"/>\n",
    "* Joseph DeSimone's (Et al. at [Carbon3D](http://carbon3d.com/)) Continuous Liquid Interface Production"
   ]
  },
  {
   "cell_type": "markdown",
   "metadata": {
    "slideshow": {
     "slide_type": "notes"
    }
   },
   "source": [
    "Joseph DeSimone (and others) at Carbon3D have developed the Continuous Liquid Interface Production (CLIP) printing technique that creates objects without the problematic layering of other methods.  For those of you who have not heard of it, the way CLIP works is a liquid polymer is cured with the aid of ultraviolet cross sectional image projected from below.  Unlike previous methods using ultraviolet light CLIP prevents the polymer from adhering to the window at the bottom by using an oxygen-permeable membrane which retards the curing process.  The result is a very rapidly printed object built up from the molecular level making it isotropic, thus without any weak planes.  The polymer can be modified chemically so that the end result can have almost any physical property desired, and at a rate 10 to 100 times faster than previous methods.  The developer has even boasted that it may reach speeds of 1000 times faster.  The size limitations for making a 3D print using CLIP are the area of the pool and the number of projectors.  Because of this it is conceivable that CLIP may make its way to construction sites for fabrication of building components."
   ]
  },
  {
   "cell_type": "markdown",
   "metadata": {
    "slideshow": {
     "slide_type": "subslide"
    }
   },
   "source": [
    "## Full Scale Construction"
   ]
  },
  {
   "cell_type": "markdown",
   "metadata": {},
   "source": [
    "\n",
    "<img style=\"float:right; max-width: 30%; height: auto;\" src=\"./Images/3D Printing/3D printers.jpg\"/>\n",
    "\n",
    "\n",
    "\n",
    "|Company/Printer|Country|\n",
    "|--|--|\n",
    "| [WinSun](http://www.3ders.org/articles/20160331-winsun-3d-prints-two-gorgeous-concrete-chinese-courtyards-inspired-by-the-ancient-suzhou-gardens.html) | China|\n",
    "| [Apis Cor](http://apis-cor.com/en/3d-printer) | Russia|\n",
    "| [Contour Crafting](http://www.contourcrafting.org/) | USC|\n",
    "| [KamerMaker](http://3dprintcanalhouse.com/partners) | Netherlands|\n",
    "| [WASP BigDelta](http://www.wasproject.it/w/en/3d-printers/) | Italy|"
   ]
  },
  {
   "cell_type": "markdown",
   "metadata": {
    "slideshow": {
     "slide_type": "notes"
    }
   },
   "source": [
    "With the multiple 3D Printers being developed, or now available, for construction it will soon be relatively easy to get in to the building 3D printing business.  Winsun has expressed interest in establishing factories in the US.  The Apis Cor 3D-printer, at only 2 tons, can be loaded onto a flatbed truck with a crane arm.  Contour Crafting is supposed to be commercially available within a couple years.  The KamerMaker version 2.0 is being developed and you can get the World’s Advanced Saving Project (WASP) BigDelta printer."
   ]
  },
  {
   "cell_type": "markdown",
   "metadata": {
    "slideshow": {
     "slide_type": "subslide"
    }
   },
   "source": [
    "### The Canal House"
   ]
  },
  {
   "cell_type": "markdown",
   "metadata": {},
   "source": [
    "<img src=\"./Images/3D Printing/dezeen_3D-printed-canal-house-by-DUS-Architects_ss_1.jpg\"/>"
   ]
  },
  {
   "cell_type": "markdown",
   "metadata": {
    "slideshow": {
     "slide_type": "notes"
    }
   },
   "source": [
    "The KamerMaker XL, is a 12 feet tall fused filament fabrication (FFF) printer, and was used at the Buiksloter Canal in Amsterdam. The printer, more or less a large RepRap printer housed in a shipping container, uses a type of plastic which is an 80% bio-based hotmelt, developed by German chemical company Henkel, to print pieces that are assembled into a complete house. The project printer functions essentially the same as the smaller filament printers."
   ]
  },
  {
   "cell_type": "markdown",
   "metadata": {
    "collapsed": false,
    "slideshow": {
     "slide_type": "skip"
    }
   },
   "source": [
    "import sympy.physics.units as u\n",
    "3.5 *u.meter/u.feet"
   ]
  },
  {
   "cell_type": "markdown",
   "metadata": {
    "slideshow": {
     "slide_type": "subslide"
    }
   },
   "source": [
    "### Apis Cor"
   ]
  },
  {
   "cell_type": "code",
   "execution_count": 1,
   "metadata": {
    "collapsed": false,
    "hide_input": true,
    "scrolled": true,
    "slideshow": {
     "slide_type": "-"
    }
   },
   "outputs": [
    {
     "data": {
      "text/html": [
       "\n",
       "<img style=\"float:left; max-width:50%; height:auto;\" src=\"./Images/3D Printing/ApisCor_printer_tcB@2x.png\"/>\n",
       "<video style=\"float:right; max-width:90%; height:auto\" controls>\n",
       "  <source src=\"https://github.com/damontallen/SEBC_Talk/raw/master/Video/Short Apis Cor.m4v\" type=\"video/mp4\">\n",
       "  Your browser does not support the video tag.\n",
       "</video> \n"
      ],
      "text/plain": [
       "<IPython.core.display.HTML object>"
      ]
     },
     "execution_count": 1,
     "metadata": {},
     "output_type": "execute_result"
    }
   ],
   "source": [
    "from IPython.display import HTML\n",
    "Apis_data  = \"\"\"\n",
    "<img style=\"float:left; max-width:50%; height:auto;\" src=\"./Images/3D Printing/ApisCor_printer_tcB@2x.png\"/>\n",
    "<video style=\"float:right; max-width:90%; height:auto\" controls>\n",
    "  <source src=\"https://github.com/damontallen/SEBC_Talk/raw/master/Video/Short Apis Cor.m4v\" type=\"video/mp4\">\n",
    "  Your browser does not support the video tag.\n",
    "</video> \n",
    "\"\"\"\n",
    "HTML(Apis_data)"
   ]
  },
  {
   "cell_type": "markdown",
   "metadata": {
    "hide_input": false,
    "slideshow": {
     "slide_type": "notes"
    }
   },
   "source": [
    "This is the first construction printer I'm going to talk about that uses traditional construction material.  Designed by Russian engineers it serves as an entry level construction 3D printer, small, lightweight, and with low power consumption (8 KW).  According to their site the concrete printer takes about 30 minutes to setup, it is self leveling and when not in use can fit through a 3 foot wide opening.  It is designed to be placed in the center of a house where it prints the surrounding structure.  For a multi-story structure a crane is required to move the printer from one floor to the next.  The other limitation is the print area.  The radial reach is only about 26 feet giving a maximum print area of approximately 2,000 square feet.  However it can be used to print foundation forms and does some initial finishing of the wall surfaces.  A skip trowel finish is suggested for the final appearance.  The nice part about using concrete for a print material is that as it cures the crystalline structure between layers grows together making it more or less isotropic.  Additionally, if more strength is required the structure can be treated like a block building and some of the cells can be grouted solid.  They are reporting costs savings of 40% and a rapid build time.  "
   ]
  },
  {
   "cell_type": "markdown",
   "metadata": {
    "slideshow": {
     "slide_type": "subslide"
    }
   },
   "source": [
    "### WASP BigDelta"
   ]
  },
  {
   "cell_type": "markdown",
   "metadata": {},
   "source": [
    "<img style=\"float:left; max-width:40%; height:auto;\" src=\"./Images/3D Printing/big-delta-3D-printer-from-WASP.jpg\"/>\n",
    "\n",
    "<img style=\"float:right; max-width:100%; height:auto;\" src=\"./Images/3D Printing/DeltaRamki.gif\"/>"
   ]
  },
  {
   "cell_type": "markdown",
   "metadata": {
    "slideshow": {
     "slide_type": "notes"
    }
   },
   "source": [
    "As you can see the WASP BigDelta is named after the delta robot design which was invented in the early 1980s.  This particular construction printer has a reduced print area, but it was designed with low cost housing in mind.  The printer \"has been desgined to be able to print materials that are found on location, a mixture of water, soil and vegetable fiber, depending on each territory\". However it is supposed to also print with cement, lime based mixtures, sawdust and polystyrene.  With the printer's humanitarian design goals in mind it was designed to only uses 1-1.5 Kilowatts of power, which could be supplied by a single solar panel."
   ]
  },
  {
   "cell_type": "markdown",
   "metadata": {
    "slideshow": {
     "slide_type": "subslide"
    }
   },
   "source": [
    "### Contour Crafting"
   ]
  },
  {
   "cell_type": "markdown",
   "metadata": {},
   "source": [
    "<img style=\"float:center;max-width:80%; height:auto;\" src=\"./Images/3D Printing/Contour Crafting Collection.png\"/>"
   ]
  },
  {
   "cell_type": "markdown",
   "metadata": {
    "slideshow": {
     "slide_type": "notes"
    }
   },
   "source": [
    "Dr. Behrokh Khoshnevis, one of the early pioneers of 3D construction printing, developed his method (Contour Crafting) with the concept for not only printing the structure but the automatically insertion of structural components, plumbing, wiring, utilities, and even consumer devices like audiovisual systems as the layers are built.  The desire to accomplish these lofty goals is part of the reason that the other designs that copy his printing technique have made it to market first.  Contour Crafting printers are supposed to be available within a few years, and they are the only company at the moment with plans for larger scale buildings being printed on-site.  Apartment complexes will be rapidly printed with the use of multiple printers working side by side; high-rises are planned to be constructed with printers that climb the walls as they print. With not only the structure but the plumbing and electrical being placed by the printer it may become a replacement for entire construction crews."
   ]
  },
  {
   "cell_type": "markdown",
   "metadata": {
    "slideshow": {
     "slide_type": "subslide"
    }
   },
   "source": [
    "### WinSun*"
   ]
  },
  {
   "cell_type": "markdown",
   "metadata": {},
   "source": [
    "<img style=\"float:center;max-width:90%;height:auto;\" src=\"./Images/3D Printing/WinSun.png\"/>"
   ]
  },
  {
   "cell_type": "markdown",
   "metadata": {
    "slideshow": {
     "slide_type": "notes"
    }
   },
   "source": [
    "You may have heard about WinSun in the news a little more than a year ago.  They were touted as having been the first to print a five story building.  While technically true, the printing was done in their factory and the building was assembled on site much like precast construction.  That being said, they are producing attractive structures now and are exporting 20,000 smaller buildings to the Egyptian government.  There is a fair amount of controversy with their printing process though since Dr. Behrokh Khoshnevis's former student apparently stole it.  I don't know how this will play out if they try to actually set up a factory in the US, but they have expressed the desire to do so.  They may just be waiting until the patents expire in ten more years.  Either way, their process requires connecting the walls together with conventionally poured concrete.  (http://www.yhbm.com/ is WinSun's website)"
   ]
  },
  {
   "cell_type": "markdown",
   "metadata": {
    "slideshow": {
     "slide_type": "subslide"
    }
   },
   "source": [
    "### \"Just 17 days to create world’s first fully 3D printed office in Dubai\""
   ]
  },
  {
   "cell_type": "markdown",
   "metadata": {},
   "source": [
    "<img style=\"float:right; max-width: 50%; height: auto;\" src=\"./Images/3D Printing/UAE 3D printed Building.jpg\"/>\n",
    "* Temporary office of the Dubai Future Foundation\n",
    "  * \"Museum of the Future\"\n",
    "* Floor space 250 square meters (2700 ft<sup>2</sup>)\n",
    "* Construction speed\n",
    "  * Printed in 17 days\n",
    "  * Installed in two days\n",
    "* Labor\n",
    "  * 1 staff member to monitor the printer\n",
    "  * 7 to install the building components on site\n",
    "  * 10 electricians and specialists for the mechanical and electrical engineering tasks\n",
    "  * 50% of the costs of the conventionally alternative\n",
    "* Material\n",
    "  * Special reinforced concrete\n",
    "  * Glass fiber reinforced gypsum \n",
    "  * Fiber reinforced plastic\n",
    "  * Designed and made in the UAE and the United States\n",
    "* Unique construction differences\n",
    "  * Mobile printers were located at the construction site for additional support"
   ]
  },
  {
   "cell_type": "code",
   "execution_count": 3,
   "metadata": {
    "collapsed": false,
    "slideshow": {
     "slide_type": "skip"
    }
   },
   "outputs": [
    {
     "name": "stdout",
     "output_type": "stream",
     "text": [
      "2691 ft^2\n",
      "4800\n"
     ]
    }
   ],
   "source": [
    "import sympy.physics.units as u\n",
    "Area = 250* u.meters**2\n",
    "print(f\"{float(Area/u.ft**2):.0f} ft^2\")\n",
    "print(120*40)"
   ]
  },
  {
   "cell_type": "markdown",
   "metadata": {
    "slideshow": {
     "slide_type": "notes"
    }
   },
   "source": [
    "I want to point out more recent 3D printed building projects that have made the news.  The factory housed 3D-printer used is 20-feet high, 120-feet long and 40-feet wide.  The construction speed was significantly faster than conventional construction methods for similar office buildings. The method cut the labor cost by more than 50 per cent when compared to conventional buildings of approximately the same size.  Specifically, they are estimating that when using this technique, production times are reduced by 50 to 70 percent, labor costs can be reduced by 50 to 80 percent, and construction waste is reduced by 30 to 60 percent."
   ]
  },
  {
   "cell_type": "markdown",
   "metadata": {
    "slideshow": {
     "slide_type": "subslide"
    }
   },
   "source": [
    "### MX3D - Steel Printing"
   ]
  },
  {
   "cell_type": "markdown",
   "metadata": {},
   "source": [
    "<img style=\"float:center;\" src=\"./Images/3D Printing/MX3D.png\"/>"
   ]
  },
  {
   "cell_type": "markdown",
   "metadata": {
    "slideshow": {
     "slide_type": "notes"
    }
   },
   "source": [
    "Dutch designer Joris Laarman, whose R&D company MX3D, developed a steel printing robot with the goal of printing bridges (and other things).  This technique is actually built up weld.  Being built up, it does have a layered structure but being made from steel allows these layers to be oriented in whatever is the most advantageous or, at least the least detrimental.  The layers can be made to be perpendicular to the direction of load reducing the strength requirements.  It is also a very efficient way of building a structure since there only needs to be the material required for support and no waste.  Unfortunately this is not a particularly fast process placing a single drop at a time, but the potential exists for greater speed, and since the increased construction time does not equate to increased labor costs this is not necessarily a deal breaker for custom designs."
   ]
  },
  {
   "cell_type": "markdown",
   "metadata": {
    "slideshow": {
     "slide_type": "subslide"
    }
   },
   "source": [
    "### Recycling in 3D Printing"
   ]
  },
  {
   "cell_type": "markdown",
   "metadata": {},
   "source": [
    "<img style=\"float:right; max-width:90%,height:auto\"src=\"./Images/Recycling.png\"/>\n",
    "* Recycling\n",
    "* Reuse"
   ]
  },
  {
   "cell_type": "markdown",
   "metadata": {
    "slideshow": {
     "slide_type": "notes"
    }
   },
   "source": [
    "A lot of these processes use recycled content in the print medium, be it plastic, concrete or steel.  This helps with the environmental impact and LEED certifications.  This is particularly true with the use of plastics since 100% of the material can can come from recycling and there are already techniques for making new printing material available."
   ]
  },
  {
   "cell_type": "markdown",
   "metadata": {
    "slideshow": {
     "slide_type": "slide"
    }
   },
   "source": [
    "# Robotics"
   ]
  },
  {
   "cell_type": "markdown",
   "metadata": {},
   "source": [
    "<img style=\"float:center;max-width:90%,height:auto;\" src=\"./Images/Construction Robots.png\"/>"
   ]
  },
  {
   "cell_type": "markdown",
   "metadata": {
    "slideshow": {
     "slide_type": "notes"
    }
   },
   "source": [
    "As I said before 3D printers are simply specialized robots.  There are many more types of automation entering the industry and some already here.  "
   ]
  },
  {
   "cell_type": "markdown",
   "metadata": {
    "slideshow": {
     "slide_type": "subslide"
    }
   },
   "source": [
    "## Brief Review"
   ]
  },
  {
   "cell_type": "markdown",
   "metadata": {},
   "source": [
    "<img style=\"float:center;max-width:70%;height:auto;\" src=\"./Images/Robotics Review combined.png\"/>"
   ]
  },
  {
   "cell_type": "markdown",
   "metadata": {
    "slideshow": {
     "slide_type": "notes"
    }
   },
   "source": [
    "The International Association for Automation and Robotics in construction has been around since 1984.  During their first conference, talks covered tunneling robots, robotic assembly, and management tools for robotic construction projects.  In 2015 the topics covered from automated kitchens for assisted living to assistive bathroom modules.  The Robotics and Mechatronics Conference in Japan had presentations covering wearable robots, swarm robots, and Construction & Infrastructure Maintenance Robotics.  My point is automation will rapidly be permeating all aspects of construction, be it 3D printers, robotic construction workers, or just the internet of things.  This was even evident back in 1985 when this chart was published.  I would have to say we are a little farther along than was expected."
   ]
  },
  {
   "cell_type": "markdown",
   "metadata": {
    "slideshow": {
     "slide_type": "subslide"
    }
   },
   "source": [
    "## Currently Available"
   ]
  },
  {
   "cell_type": "markdown",
   "metadata": {},
   "source": [
    "<img style=\"float:center;max-width:80%;height:auto\"src=\"./Images/Current/Current Collection.jpg\"/>"
   ]
  },
  {
   "cell_type": "markdown",
   "metadata": {
    "slideshow": {
     "slide_type": "notes"
    }
   },
   "source": [
    "There are far too many robots available to use in construction to list them all now, so I'm just going to cover some examples of the major types.  In the upper left there is an autonomous version of a Hitachi dump truck that is scheduled to be available in 2017. It is designed to either work independently or as part of a fleet of trucks. This particular version is targeted at the mining industry, but other versions are being developed for construction sites.  Top center is a human robotic platform (HRP) being teleoperated on a construction machine as part of the NEDO Humnoid Project.  It may be a little hard to see but the upper right is a set of photos from Sekisui Chemical Co., LTD which can produce 1,000 homes a year in their automated plant.  Lower left is the Semi-Autonomous Mason (SAM) from Construction Robotics.  Bottom center is Hadrain, from Perth, Australia, which can lay 1000 bricks per hour.  Finally, at the bottom right is the autonomous wheel loader \"Yamazumi-4\".  I wouldn't be surprised if Tesla gets into the market before too long."
   ]
  },
  {
   "cell_type": "markdown",
   "metadata": {
    "slideshow": {
     "slide_type": "subslide"
    }
   },
   "source": [
    "### Baxter"
   ]
  },
  {
   "cell_type": "markdown",
   "metadata": {},
   "source": [
    "<img style=\"float:center; max-width:90%; height:auto;\" src=\"./Images/Current/Baxter.jpg\"/>"
   ]
  },
  {
   "cell_type": "markdown",
   "metadata": {
    "slideshow": {
     "slide_type": "notes"
    }
   },
   "source": [
    "Baxter is the famous manufacturing robot that has been made popular recently.  It is what is known as a general purpose robot.  That is that it is taught what to do rather than being programmed.  As it was built for factory type settings, you may be wondering what it has to do with construction.  Its versatility is why I'm including it.  It is a \\$25,000 machine that if it were mobile, and self driving, it could be adapted to the construction environment.  The cost of one is only about that of a full time employee for a year and it can work around the clock."
   ]
  },
  {
   "cell_type": "markdown",
   "metadata": {
    "slideshow": {
     "slide_type": "subslide"
    }
   },
   "source": [
    "### Drones"
   ]
  },
  {
   "cell_type": "markdown",
   "metadata": {},
   "source": [
    "<img style=\"float:center;max-width:70%;height:auto\" src=\"./Images/drones building.jpg\"/>"
   ]
  },
  {
   "cell_type": "markdown",
   "metadata": {
    "slideshow": {
     "slide_type": "notes"
    }
   },
   "source": [
    "I'm sure by this point you are familiar with the use of drones for monitoring job-site progress.  However, Amazon is not the only one looking at delivery drones.  This is an example of roboticist Raffaello D’Andrea at the Swiss firm Gramazio Kohler Architects using drones to create walls from lightweight blocks.  This is not the limit of drones in the future since all you need to do is scale them up to carry heavier payloads. There is even research being done at Imperial College London to make drones that lay bricks and \"3D print\" mortar while it is in flight."
   ]
  },
  {
   "cell_type": "markdown",
   "metadata": {
    "slideshow": {
     "slide_type": "subslide"
    }
   },
   "source": [
    "## What is on the Horizon"
   ]
  },
  {
   "cell_type": "markdown",
   "metadata": {},
   "source": [
    "<img style=\"float:center; max-width:70%; height:auto\" src=\"./Images/Timber Construction.jpg\"/>"
   ]
  },
  {
   "cell_type": "markdown",
   "metadata": {
    "slideshow": {
     "slide_type": "notes"
    }
   },
   "source": [
    "There is a lot of work being done in the field of construction robotics now, and there seems to be no limit to what will be coming next.  This is where I want to try to inspire you to take a little time and look into this technological future.  This is a prototype automated \"carpenter\" being developed by Gramazio Kohler Research in Zurich.  The lumber feed, sawing, fitting and fastening of complex wood structures is being done by this robot.  In the not too distant future you could see it with tracks or legs walking across a job site near you."
   ]
  },
  {
   "cell_type": "markdown",
   "metadata": {
    "slideshow": {
     "slide_type": "subslide"
    }
   },
   "source": [
    "### Walking Robots"
   ]
  },
  {
   "cell_type": "markdown",
   "metadata": {},
   "source": [
    "<img style=\"float:left; max-width:50%; height:auto;\" src=\"./Images/Boston Dynamic box robot.jpg\"/>\n",
    "<img style=\"float:right; max-width:50%; height:auto;\" src=\"./Images/spotmini.gif\"/>"
   ]
  },
  {
   "cell_type": "markdown",
   "metadata": {
    "slideshow": {
     "slide_type": "notes"
    }
   },
   "source": [
    "You may be aware of the Boston Dynamics' bipedal Atlas robot that was harassed earlier this year, or more recently Spot Mini putting dishes in the dish washer.  These robots are close to being able to operate existing equipment.  You may not know that Toyota is interested in purchasing Boston Dynamics.  Additionally, you may not know that Toyota also has a construction branch.  Their automated  modular home division has been reported to be able to complete a 12 room home in no more than three days; this includes placing it on site, done.  For now they are mainly focused on their home market, but if they decide to set up shop in the US it may result in a disruption to the construction market similar to what happened to the automotive industry."
   ]
  },
  {
   "cell_type": "markdown",
   "metadata": {
    "slideshow": {
     "slide_type": "subslide"
    }
   },
   "source": [
    "### Specialized Construction Machines"
   ]
  },
  {
   "cell_type": "markdown",
   "metadata": {},
   "source": [
    "<img style=\"float:center;max-width:70%;height:auto\"src=\"./Images/In-situ Fabricator.png\"/>"
   ]
  },
  {
   "cell_type": "markdown",
   "metadata": {
    "slideshow": {
     "slide_type": "notes"
    }
   },
   "source": [
    "One of the more sophisticated wall building robots under development, the In-situ, Fabricator works by driving to the build location by itself, then builds the wall based on a BIM model it accesses via the wifi network.  Engineers at the University of Alberta are developing self driving cranes.  And at the Cairo University in Egypt engineers are developing software that will look at a project's BIM model and automatically select and position tower cranes.  Gramazio Kohler is using on drones to build rope bridges."
   ]
  },
  {
   "cell_type": "markdown",
   "metadata": {
    "slideshow": {
     "slide_type": "subslide"
    }
   },
   "source": [
    "### Also more Drones"
   ]
  },
  {
   "cell_type": "markdown",
   "metadata": {},
   "source": [
    "<img style=\"float:center;max-width:60%;height:auto\" src=\"./Images/Safety drone.png\"/>"
   ]
  },
  {
   "cell_type": "markdown",
   "metadata": {
    "slideshow": {
     "slide_type": "notes"
    }
   },
   "source": [
    "I am currently working with Dr. Masoud Gheisari at UF's Rinker School on a drone project to create an automated safety inspector.  (I am also seeking funding for a concrete printer for the school; just throwing that out there.)"
   ]
  },
  {
   "cell_type": "markdown",
   "metadata": {
    "slideshow": {
     "slide_type": "subslide"
    }
   },
   "source": [
    "## Can't Wait?"
   ]
  },
  {
   "cell_type": "markdown",
   "metadata": {},
   "source": [
    "<img style=\"float:right;max-width:40%;height:auto;\" src=\"./Images/Pi and Arduino_Uno.png\"/>\n",
    "\n",
    "* Help support research and development\n",
    "  * Funding\n",
    "  * Consider using interns to help build equipment for yourself\n",
    "* Collaborate\n",
    "  * Help with technical parts if you can\n",
    "  * Suggest projects\n",
    "  * Provide feedback\n",
    "  * Use your kids to build equipment"
   ]
  },
  {
   "cell_type": "markdown",
   "metadata": {
    "slideshow": {
     "slide_type": "notes"
    }
   },
   "source": [
    "If you are interested in one or more of the projects that I've mentioned, or you have an idea of your own that you wish someone would work on, you have options.  You can either provide assistance in the form of funding and development input to UF, or if you feel a little more hands-on, and want to strike out on your own, the open-source movement (Arduino (\\$25), Raspberry Pi (\\$35), etc.) has made the barrier to entry into the robotics field extremely low, practically non-existent.  There are projects out there that will provide a leg up like the 7Bot robotic arm (\\$350) that learns motion instead of programming it.  Numerous resources are available on-line that can be used to build a useful robot without the need of an engineering degree, but it may take some time."
   ]
  },
  {
   "cell_type": "markdown",
   "metadata": {
    "slideshow": {
     "slide_type": "subslide"
    }
   },
   "source": [
    "## What you can make for \\$100"
   ]
  },
  {
   "cell_type": "markdown",
   "metadata": {},
   "source": [
    "<img style=\"float:center;max-width:70%;height:auto;\" src=\"./Images/Mine2.jpg\"/>"
   ]
  },
  {
   "cell_type": "markdown",
   "metadata": {
    "slideshow": {
     "slide_type": "notes"
    }
   },
   "source": [
    "I've been working on this is a prototype spindle cutting robot which was built using scrap wood, unused electronics, parts from old printers and around \\$100 of additional hardware (mostly just what is circled).  To use it I simply provide the robot with a drawing of the final product and it goes to work.  It was built for use by a historic organization my wife is involved in to recreate some spindles in a historic building restoration project.  During its development, to demonstrate how easy it can be build a robot now, I deliberately limited myself to using information and techniques that could be quickly found on-line.  "
   ]
  },
  {
   "cell_type": "markdown",
   "metadata": {
    "slideshow": {
     "slide_type": "slide"
    }
   },
   "source": [
    "# Conclusion"
   ]
  },
  {
   "cell_type": "markdown",
   "metadata": {},
   "source": [
    "<img style=\"float:right;max-width:60%;height:auto\" src=\"./Images/vision_01.jpg\"/>\n",
    "The machines are coming..."
   ]
  },
  {
   "cell_type": "markdown",
   "metadata": {},
   "source": [
    "Get involved..."
   ]
  },
  {
   "cell_type": "markdown",
   "metadata": {
    "slideshow": {
     "slide_type": "slide"
    }
   },
   "source": [
    "# Questions?"
   ]
  },
  {
   "cell_type": "markdown",
   "metadata": {},
   "source": [
    " "
   ]
  },
  {
   "cell_type": "markdown",
   "metadata": {
    "slideshow": {
     "slide_type": "notes"
    }
   },
   "source": []
  },
  {
   "cell_type": "markdown",
   "metadata": {
    "slideshow": {
     "slide_type": "slide"
    }
   },
   "source": [
    "# Contact Information and References"
   ]
  },
  {
   "cell_type": "markdown",
   "metadata": {},
   "source": [
    " <center>\n",
    " <strong style=\"font-size:26px\">\n",
    " Dr. Damon Allen</strong><br><br>\n",
    " <strong style=\"font-size:22px\">\n",
    " 344 Rinker Hall <br>\n",
    " Gainesville, FL 32611</strong><br><br>\n",
    " <strong style=\"font-size:20px;color:blue\">\n",
    " <i>mvbdta@ufl.edu<br>\n",
    " damontallen@gmail.com</i></strong><br>\n",
    " <strong style=\"font-size:22px\"><br>\n",
    " (352)-234-4217</strong>\n",
    " </center>\n",
    " [Talk References](https://github.com/damontallen/SEBC_Talk/blob/master/Reference%20Links.pdf)\n",
    " \n",
    "Slides will be available at:\n",
    " \n",
    "     http://damontallen.github.io/SEBC_Talk/\n",
    "\n",
    "The Source images and other material is at:\n",
    "\n",
    "     https://github.com/damontallen/SEBC_Talk"
   ]
  }
 ],
 "metadata": {
  "anaconda-cloud": {},
  "celltoolbar": "Slideshow",
  "hide_input": false,
  "kernelspec": {
   "display_name": "Python 3",
   "language": "python",
   "name": "python3"
  },
  "language_info": {
   "codemirror_mode": {
    "name": "ipython",
    "version": 3
   },
   "file_extension": ".py",
   "mimetype": "text/x-python",
   "name": "python",
   "nbconvert_exporter": "python",
   "pygments_lexer": "ipython3",
   "version": "3.6.0"
  },
  "toc": {
   "toc_cell": false,
   "toc_number_sections": false,
   "toc_section_display": "none",
   "toc_threshold": 6,
   "toc_window_display": true
  },
  "toc_position": {
   "height": "505px",
   "left": "1170.87px",
   "right": "9.46667px",
   "top": "115px",
   "width": "284px"
  }
 },
 "nbformat": 4,
 "nbformat_minor": 0
}
