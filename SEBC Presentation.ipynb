{
 "cells": [
  {
   "cell_type": "markdown",
   "metadata": {
    "slideshow": {
     "slide_type": "slide"
    }
   },
   "source": [
    "# SEBC Presentation\n",
    "## Automation, Robotics and 3D Printing in Construction\n"
   ]
  },
  {
   "cell_type": "markdown",
   "metadata": {},
   "source": [
    "<img style=\"float:right; max-width: 15%; height: auto;\" src=\"Images/Rinker Logo.jpg\"/>\n",
    "<center>\n",
    "<strong style=\"font-size:20px\"> Damon Allen Ph.D.<br/>\n",
    "<br/>\n",
    "Rinker School of Construction Management<br/>\n",
    "\n",
    "University of Florida\n",
    "</strong></center>\n"
   ]
  },
  {
   "cell_type": "markdown",
   "metadata": {
    "slideshow": {
     "slide_type": "notes"
    }
   },
   "source": [
    "Hello, my name is Damon Allen and I teach at Rinker School of Construction Management at the University of Florida."
   ]
  },
  {
   "cell_type": "markdown",
   "metadata": {
    "slideshow": {
     "slide_type": "subslide"
    }
   },
   "source": [
    "# About me"
   ]
  },
  {
   "cell_type": "markdown",
   "metadata": {},
   "source": [
    "<img src=\"Images/My Color Icon 2014-alt.png\" width=250 height = 250 style=\"float:right\"/>\n",
    "* 3<sup>rd</sup> Generation Carpenter\n",
    "* Doctorate in Structural Engineering in 2008\n",
    "* Hands on Experience with Multiple Types of Construction\n",
    "    * Residential, Commercial, and Industrial\n",
    "* Experience with Automation (Robotics) \n",
    "    * Electronics \n",
    "    * Software Development\n",
    "* Professional Software Developer"
   ]
  },
  {
   "cell_type": "markdown",
   "metadata": {
    "slideshow": {
     "slide_type": "notes"
    }
   },
   "source": [
    "For those of you who did not read my bio. online, I am 3rd generation carpenter, with over a decade of experience in Residential, Commercial and Industrial construction, and my Doctorate is in Structural Engineering Degree.  I've had experience developing robotic control systems in research and professionally.  Working on the electrical design, construction as well as developing the control software.  I created and maintain two separate programming help websites and have developed construction design aid web apps."
   ]
  },
  {
   "cell_type": "markdown",
   "metadata": {
    "slideshow": {
     "slide_type": "slide"
    }
   },
   "source": [
    "# Purpose of this Talk"
   ]
  },
  {
   "cell_type": "markdown",
   "metadata": {},
   "source": [
    "<center>\n",
    "<img src=\"Images/Evolve with text.png\">\n",
    "</center>"
   ]
  },
  {
   "cell_type": "markdown",
   "metadata": {
    "slideshow": {
     "slide_type": "notes"
    }
   },
   "source": [
    "I have several goals I hope to accomplish while presenting here.\n",
    "\n",
    "* First, give an overview of the status of automation currently available to the construction industry.\n",
    "* Provide some information about the technology that is being developed (including 3D printing)\n",
    "* Hopefully inspire at least some of you to participate in the development of robots and automated tools."
   ]
  },
  {
   "cell_type": "markdown",
   "metadata": {
    "slideshow": {
     "slide_type": "slide"
    }
   },
   "source": [
    "# Next"
   ]
  },
  {
   "cell_type": "markdown",
   "metadata": {},
   "source": []
  },
  {
   "cell_type": "markdown",
   "metadata": {
    "slideshow": {
     "slide_type": "notes"
    }
   },
   "source": []
  }
 ],
 "metadata": {
  "celltoolbar": "Slideshow",
  "kernelspec": {
   "display_name": "Python 3.5",
   "language": "python",
   "name": "python3-5"
  },
  "language_info": {
   "codemirror_mode": {
    "name": "ipython",
    "version": 3
   },
   "file_extension": ".py",
   "mimetype": "text/x-python",
   "name": "python",
   "nbconvert_exporter": "python",
   "pygments_lexer": "ipython3",
   "version": "3.5.2"
  }
 },
 "nbformat": 4,
 "nbformat_minor": 0
}
