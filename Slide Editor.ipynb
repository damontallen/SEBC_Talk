{
 "cells": [
  {
   "cell_type": "code",
   "execution_count": 27,
   "metadata": {
    "collapsed": false
   },
   "outputs": [],
   "source": [
    "import re\n",
    "\n",
    "with open(\"SEBC Presentation.slides.html\",'r') as f:\n",
    "    txt= f.read()\n",
    "    \n",
    "# Img = re.compile(r'(?:src\\s*=\\s*\"\\s*)(\\s*\\./.*?)(?:\")')\n",
    "Img = re.compile(r'\\.*/*Images/')\n",
    "Vid = re.compile(r'\\.*/*Video/')"
   ]
  },
  {
   "cell_type": "code",
   "execution_count": 8,
   "metadata": {
    "collapsed": false
   },
   "outputs": [],
   "source": [
    "t = '<p><img style=\"float:center; max-width:100%; height:auto;\" src=\"./Images/3D Printing/Powder deposition graphic.png\"/></p>'"
   ]
  },
  {
   "cell_type": "code",
   "execution_count": 9,
   "metadata": {
    "collapsed": false
   },
   "outputs": [
    {
     "data": {
      "text/plain": [
       "['./Images/3D Printing/Powder deposition graphic.png']"
      ]
     },
     "execution_count": 9,
     "metadata": {},
     "output_type": "execute_result"
    }
   ],
   "source": [
    "Img.findall(t)"
   ]
  },
  {
   "cell_type": "markdown",
   "metadata": {},
   "source": [
    " SEBC_Talk/Images/7bot.jpg "
   ]
  },
  {
   "cell_type": "code",
   "execution_count": 31,
   "metadata": {
    "collapsed": false
   },
   "outputs": [
    {
     "name": "stdout",
     "output_type": "stream",
     "text": [
      "['Images/']\n",
      "['Images/']\n",
      "['Images/']\n",
      "['./Images/']\n",
      "['./Images/']\n",
      "['./Images/']\n",
      "['./Images/']\n",
      "['./Images/']\n",
      "['./Images/']\n",
      "['./Images/']\n",
      "['./Images/']\n",
      "['./Images/']\n",
      "['./Images/']\n",
      "['./Video/']\n",
      "<span class=\"s2\">  &lt;source src=&quot;./Video/Short Apis Cor.m4v&quot; type=&quot;video/mp4&quot;&gt;</span>\n",
      "['./Images/']\n",
      "['./Video/']\n",
      "  <source src=\"./Video/Short Apis Cor.m4v\" type=\"video/mp4\">\n",
      "['./Images/']\n",
      "['./Images/']\n",
      "['./Images/']\n",
      "['./Images/']\n",
      "['./Images/']\n",
      "['./Images/']\n",
      "['./Images/']\n",
      "['./Images/']\n",
      "['./Images/']\n",
      "['./Images/']\n",
      "['./Images/']\n",
      "['./Images/']\n",
      "['./Images/']\n",
      "['./Images/']\n",
      "['./Images/']\n",
      "['./Images/']\n",
      "['./Images/']\n",
      "['./Images/']\n",
      "['./Images/']\n",
      "['./Images/']\n"
     ]
    }
   ],
   "source": [
    "out = ''\n",
    "NP = \"https://github.com/damontallen/SEBC_Talk/raw/master/Images/\"\n",
    "NV = \"https://github.com/damontallen/SEBC_Talk/raw/master/Video/\"\n",
    "for line in txt.splitlines():\n",
    "    p = Img.findall(line)\n",
    "    if len(p)>0:\n",
    "        print(p)\n",
    "        P = NP\n",
    "        line = line.replace(p[0],P)\n",
    "#         print(line)\n",
    "    v = Vid.findall(line)\n",
    "    if len(v)>0:\n",
    "        print(v)\n",
    "        print(line)\n",
    "        line = line.replace(v[0],NV)\n",
    "    out += line+'\\n'\n",
    "with open(\"SEBC Presentation_web.slides.html\",'w') as f:\n",
    "    f.write(out)"
   ]
  },
  {
   "cell_type": "code",
   "execution_count": null,
   "metadata": {
    "collapsed": true
   },
   "outputs": [],
   "source": []
  }
 ],
 "metadata": {
  "hide_input": false,
  "kernelspec": {
   "display_name": "Python 3",
   "language": "python",
   "name": "python3"
  },
  "language_info": {
   "codemirror_mode": {
    "name": "ipython",
    "version": 3
   },
   "file_extension": ".py",
   "mimetype": "text/x-python",
   "name": "python",
   "nbconvert_exporter": "python",
   "pygments_lexer": "ipython3",
   "version": "3.5.2"
  },
  "toc": {
   "toc_cell": false,
   "toc_number_sections": true,
   "toc_threshold": 6,
   "toc_window_display": false
  }
 },
 "nbformat": 4,
 "nbformat_minor": 0
}
