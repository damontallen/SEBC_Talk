{
 "cells": [
  {
   "cell_type": "code",
   "execution_count": 16,
   "metadata": {
    "collapsed": false
   },
   "outputs": [],
   "source": [
    "import re\n",
    "\n",
    "with open(\"SEBC Presentation.slides.html\",'r') as f:\n",
    "    txt= f.read()\n",
    "    \n",
    "Img = re.compile(r'(?:src\\s*=\\s*\"\\s*)(\\s*\\./.*?)(?:\")')\n",
    "Img = re.compile(r'[\\.]*Images/')"
   ]
  },
  {
   "cell_type": "code",
   "execution_count": 8,
   "metadata": {
    "collapsed": false
   },
   "outputs": [],
   "source": [
    "t = '<p><img style=\"float:center; max-width:100%; height:auto;\" src=\"./Images/3D Printing/Powder deposition graphic.png\"/></p>'"
   ]
  },
  {
   "cell_type": "code",
   "execution_count": 9,
   "metadata": {
    "collapsed": false
   },
   "outputs": [
    {
     "data": {
      "text/plain": [
       "['./Images/3D Printing/Powder deposition graphic.png']"
      ]
     },
     "execution_count": 9,
     "metadata": {},
     "output_type": "execute_result"
    }
   ],
   "source": [
    "Img.findall(t)"
   ]
  },
  {
   "cell_type": "markdown",
   "metadata": {},
   "source": [
    " SEBC_Talk/Images/7bot.jpg "
   ]
  },
  {
   "cell_type": "code",
   "execution_count": 20,
   "metadata": {
    "collapsed": false
   },
   "outputs": [
    {
     "name": "stdout",
     "output_type": "stream",
     "text": [
      "['Images/']\n",
      "<p><img style=\"float:right; max-width: 15%; height: auto;\" src=\"https://github.com/damontallen/SEBC_Talk/raw/master/Images/Rinker Logo.jpg\"/></p>\n",
      "['Images/']\n",
      "<p><img src=\"https://github.com/damontallen/SEBC_Talk/raw/master/Images/My Color Icon 2014-alt.png\" width=250 height = 250 style=\"float:right\"/></p>\n",
      "['Images/']\n",
      "<img src=\"https://github.com/damontallen/SEBC_Talk/raw/master/Images/Evolve with text.png\">\n",
      "['Images/']\n",
      "<p><img style=\"float:right; max-width: 25%; height: auto;\" src = \"./https://github.com/damontallen/SEBC_Talk/raw/master/Images/WorkerPNG.png\">\n",
      "['Images/']\n",
      "<p><img style=\"float:center; max-width:50%; height:auto;\" src=\"./https://github.com/damontallen/SEBC_Talk/raw/master/Images/Sketches-Bridge-Designs.jpg\"/></p>\n",
      "['Images/']\n",
      "<p><img style=\"float:center; max-width:70%; height:auto;\" src=\"./https://github.com/damontallen/SEBC_Talk/raw/master/Images/3D Printing/MakerBot.png\"/></p>\n",
      "['Images/']\n",
      "<p><img style=\"float:center; max-width:70%; height:auto;\" src=\"./https://github.com/damontallen/SEBC_Talk/raw/master/Images/3D Printing/Models and prototypes.png\"/></p>\n",
      "['Images/']\n",
      "<p><img style=\"max-width:90%; height:auto;\" src=\"./https://github.com/damontallen/SEBC_Talk/raw/master/Images/3D Printing/Cheap 3D printers.png\"/></p>\n",
      "['Images/']\n",
      "<p><img style=\"float:center; max-width:100%; height:auto;\" src=\"./https://github.com/damontallen/SEBC_Talk/raw/master/Images/3D Printing/Powder deposition graphic.png\"/></p>\n",
      "['Images/']\n",
      "<p><img style=\"float:center; max-width:75%; height:auto;\" src=\"./https://github.com/damontallen/SEBC_Talk/raw/master/Images/3D Printing/Carbon3D2 Clip eiffel tower.png\"/></p>\n",
      "['Images/']\n",
      "<p><img style=\"float:right; max-width: 30%; height: auto;\" src = \"./https://github.com/damontallen/SEBC_Talk/raw/master/Images/3D Printing/3D printers.jpg\"/></p>\n",
      "['Images/']\n",
      "<p><img src=\"./https://github.com/damontallen/SEBC_Talk/raw/master/Images/3D Printing/dezeen_3D-printed-canal-house-by-DUS-Architects_ss_1.jpg\"/></p>\n",
      "['Images/']\n",
      "<span class=\"s2\">&lt;img style=&quot;float:left; max-width:50%; height:auto;&quot; src=&quot;./https://github.com/damontallen/SEBC_Talk/raw/master/Images/3D Printing/ApisCor_printer_tcB@2x.png&quot;/&gt;</span>\n",
      "['Images/']\n",
      "<img style=\"float:left; max-width:50%; height:auto;\" src=\"./https://github.com/damontallen/SEBC_Talk/raw/master/Images/3D Printing/ApisCor_printer_tcB@2x.png\"/>\n",
      "['Images/']\n",
      "<p><img style=\"float:left; max-width:40%; height:auto;\" src=\"./https://github.com/damontallen/SEBC_Talk/raw/master/Images/3D Printing/big-delta-3D-printer-from-WASP.jpg\"/></p>\n",
      "['Images/']\n",
      "<p><img style=\"float:right; max-width:100%; height:auto;\" src=\"./https://github.com/damontallen/SEBC_Talk/raw/master/Images/3D Printing/DeltaRamki.gif\"/></p>\n",
      "['Images/']\n",
      "<p><img style=\"float:center;max-width:80%; height:auto;\" src=\"./https://github.com/damontallen/SEBC_Talk/raw/master/Images/3D Printing/Contour Crafting Collection.png\"/></p>\n",
      "['Images/']\n",
      "<p><img style=\"float:center;max-width:90%;height:auto;\" src=\"./https://github.com/damontallen/SEBC_Talk/raw/master/Images/3D Printing/WinSun.png\"/></p>\n",
      "['Images/']\n",
      "<p><img style=\"float:right; max-width: 50%; height: auto;\" src=\"./https://github.com/damontallen/SEBC_Talk/raw/master/Images/3D Printing/UAE 3D printed Building.jpg\"/></p>\n",
      "['Images/']\n",
      "<p><img style=\"float:center;\" src=\"./https://github.com/damontallen/SEBC_Talk/raw/master/Images/3D Printing/MX3D.png\"/></p>\n",
      "['Images/']\n",
      "<p><img style=\"float:right; max-width:90%,height:auto\"src=\"./https://github.com/damontallen/SEBC_Talk/raw/master/Images/Recycling.png\"/></p>\n",
      "['Images/']\n",
      "<p><img style=\"float:center;max-width:90%,height:auto;\" src=\"./https://github.com/damontallen/SEBC_Talk/raw/master/Images/Construction Robots.png\"/></p>\n",
      "['Images/']\n",
      "<p><img style=\"float:center;max-width:70%;height:auto;\" src=\"./https://github.com/damontallen/SEBC_Talk/raw/master/Images/Robotics Review combined.png\"/></p>\n",
      "['Images/']\n",
      "<p><img style=\"float:center;max-width:80%;height:auto\"src=\"./https://github.com/damontallen/SEBC_Talk/raw/master/Images/Current/Current Collection.jpg\"/></p>\n",
      "['Images/']\n",
      "<p><img style = \"float:center; max-width:90%; height:auto;\" src=\"./https://github.com/damontallen/SEBC_Talk/raw/master/Images/Current/Baxter.jpg\"/></p>\n",
      "['Images/']\n",
      "<p><img style=\"float:center;max-width:70%;height:auto\" src=\"./https://github.com/damontallen/SEBC_Talk/raw/master/Images/drones building.jpg\"/></p>\n",
      "['Images/']\n",
      "<p><img style = \"float:center; max-width:70%; height:auto\" src=\"./https://github.com/damontallen/SEBC_Talk/raw/master/Images/Timber Construction.jpg\"/></p>\n",
      "['Images/']\n",
      "<p><img style=\"float:left; max-width:50%; height:auto;\" src=\"./https://github.com/damontallen/SEBC_Talk/raw/master/Images/Boston Dynamic box robot.jpg\"/>\n",
      "['Images/']\n",
      "<img style=\"float:right; max-width:50%; height:auto;\" src=\"./https://github.com/damontallen/SEBC_Talk/raw/master/Images/spotmini.gif\"/></p>\n",
      "['Images/']\n",
      "<p><img style=\"float:center;max-width:70%;height:auto\"src=\"./https://github.com/damontallen/SEBC_Talk/raw/master/Images/In-situ Fabricator.png\"/></p>\n",
      "['Images/']\n",
      "<p><img style=\"float:center;max-width:60%;height:auto\" src=\"./https://github.com/damontallen/SEBC_Talk/raw/master/Images/Safety drone.png\"/></p>\n",
      "['Images/']\n",
      "<p><img style=\"float:right;max-width:40%;height:auto;\" src=\"./https://github.com/damontallen/SEBC_Talk/raw/master/Images/Pi and Arduino_Uno.png\"/></p>\n",
      "['Images/']\n",
      "<p><img style=\"float:center;max-width:70%;height:auto;\" src=\"./https://github.com/damontallen/SEBC_Talk/raw/master/Images/Mine2.jpg\"/></p>\n",
      "['Images/']\n",
      "<p><img style=\"float:right;max-width:60%;height:auto\" src=\"./https://github.com/damontallen/SEBC_Talk/raw/master/Images/vision_01.jpg\"/>\n"
     ]
    }
   ],
   "source": [
    "out = ''\n",
    "NP = \"https://github.com/damontallen/SEBC_Talk/raw/master/Images/\"\n",
    "for line in txt.splitlines():\n",
    "    p = Img.findall(line)\n",
    "    if len(p)>0:\n",
    "        print(p)\n",
    "        \n",
    "        P = NP\n",
    "        line = line.replace(p[0],P)\n",
    "        print(line)\n",
    "    out += line+'\\n'\n",
    "with open(\"SEBC Presentation_web.slides.html\",'w') as f:\n",
    "    f.write(out)"
   ]
  },
  {
   "cell_type": "code",
   "execution_count": null,
   "metadata": {
    "collapsed": true
   },
   "outputs": [],
   "source": []
  }
 ],
 "metadata": {
  "hide_input": false,
  "kernelspec": {
   "display_name": "Python 3",
   "language": "python",
   "name": "python3"
  },
  "language_info": {
   "codemirror_mode": {
    "name": "ipython",
    "version": 3
   },
   "file_extension": ".py",
   "mimetype": "text/x-python",
   "name": "python",
   "nbconvert_exporter": "python",
   "pygments_lexer": "ipython3",
   "version": "3.5.2"
  },
  "toc": {
   "toc_cell": false,
   "toc_number_sections": true,
   "toc_threshold": 6,
   "toc_window_display": false
  }
 },
 "nbformat": 4,
 "nbformat_minor": 0
}
