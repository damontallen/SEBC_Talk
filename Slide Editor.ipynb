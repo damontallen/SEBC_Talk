{
 "cells": [
  {
   "cell_type": "code",
   "execution_count": 6,
   "metadata": {
    "collapsed": true
   },
   "outputs": [],
   "source": [
    "import re\n",
    "\n",
    "with open(\n",
    "    txt = f.read()\n",
    "    \n",
    "Img = re.compile(r'(?:src\\s*=\\s*\"\\s*)(\\s*\\./.*?)(?:\")')"
   ]
  },
  {
   "cell_type": "code",
   "execution_count": 7,
   "metadata": {
    "collapsed": false
   },
   "outputs": [],
   "source": [
    "t = '<p><img style=\"float:center; max-width:100%; height:auto;\" src=\"./Images/3D Printing/Powder deposition graphic.png\"/></p>'"
   ]
  },
  {
   "cell_type": "code",
   "execution_count": 8,
   "metadata": {
    "collapsed": false
   },
   "outputs": [
    {
     "data": {
      "text/plain": [
       "['./Images/3D Printing/Powder deposition graphic.png']"
      ]
     },
     "execution_count": 8,
     "metadata": {},
     "output_type": "execute_result"
    }
   ],
   "source": [
    "Img.findall(t)"
   ]
  },
  {
   "cell_type": "markdown",
   "metadata": {},
   "source": [
    " SEBC_Talk/Images/7bot.jpg "
   ]
  },
  {
   "cell_type": "code",
   "execution_count": 11,
   "metadata": {
    "collapsed": false
   },
   "outputs": [],
   "source": [
    "out = ''\n",
    "NP = \"https://raw.githubusercontent.com/damontallen/SEBC_Talk/master\"\n",
    "for line in txt.splitlines():\n",
    "    p = Img.findall(line)\n",
    "    if len(p)>0:\n",
    "#         print(p)\n",
    "        P = NP+p[0][1:]\n",
    "        line = line.replace(p[0],P)\n",
    "#         print(line)\n",
    "    out += line+'\\n'\n",
    "with open(\"SEBC Presentation_web.slides.html\",'w') as f:\n",
    "    f.write(out)"
   ]
  }
 ],
 "metadata": {
  "hide_input": false,
  "kernelspec": {
   "display_name": "Python 3",
   "language": "python",
   "name": "python3"
  },
  "language_info": {
   "codemirror_mode": {
    "name": "ipython",
    "version": 3
   },
   "file_extension": ".py",
   "mimetype": "text/x-python",
   "name": "python",
   "nbconvert_exporter": "python",
   "pygments_lexer": "ipython3",
   "version": "3.5.2"
  },
  "toc": {
   "toc_cell": false,
   "toc_number_sections": true,
   "toc_threshold": 6,
   "toc_window_display": false
  }
 },
 "nbformat": 4,
 "nbformat_minor": 0
}
